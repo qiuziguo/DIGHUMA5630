{
  "nbformat": 4,
  "nbformat_minor": 0,
  "metadata": {
    "colab": {
      "provenance": []
    },
    "kernelspec": {
      "name": "python3",
      "display_name": "Python 3"
    },
    "language_info": {
      "name": "python"
    }
  },
  "cells": [
    {
      "cell_type": "markdown",
      "source": [
        "# Write and Debug code with chatGPT"
      ],
      "metadata": {
        "id": "DPAeaCa_Rle_"
      }
    },
    {
      "cell_type": "code",
      "source": [
        "\n",
        "# import library\n",
        "\n",
        "import numpy as np \n",
        "import pandas as pd "
      ],
      "metadata": {
        "id": "y88rU7jEUC5q"
      },
      "execution_count": 1,
      "outputs": []
    },
    {
      "cell_type": "code",
      "execution_count": null,
      "metadata": {
        "id": "h-7BIrcORjBz"
      },
      "outputs": [],
      "source": [
        "df = pd.read_csv('/content/nft_sales.csv')\n",
        "\n",
        "# print the dataframe\n",
        "print(df)"
      ]
    },
    {
      "cell_type": "markdown",
      "source": [
        "## Cleaning data \n",
        "\n",
        "call chatGPT to remove the commons and currency signs.\n",
        "Copy & paste the first five rows of data for telling AI how the table looks like.\n",
        "\n",
        "### Prompt for chatGPT:\n",
        "\n",
        "\"how to remove the currency signs and commons in the table, using python\n",
        "(copy and paste the four rows of the above table)                Collections           Sales     Buyers        Txns     Owners\n",
        "0            Axie Infinity  $4,090,222,023  1,790,587  17,670,824  2,130,467\n",
        "1     Bored Ape Yacht Club  $2,439,754,017     12,052      32,670      6,586\n",
        "2              CryptoPunks  $2,388,467,992      6,076      22,269      3,804\n",
        "3    Mutant Ape Yacht Club  $1,744,822,678     23,768      51,775     13,121\n",
        "4               Art Blocks  $1,310,734,558     33,549     184,470     36,091\"\n",
        "\n",
        "Screenshot:\n",
        "\n",
        "\n",
        "![picture](https://drive.google.com/uc?export=view&id=1MSFJD7s4NyU1ReJBCi-JTs__LZZZhdvZ)\n",
        "\n",
        "\n"
      ],
      "metadata": {
        "id": "U-2pV-33Vpv7"
      }
    },
    {
      "cell_type": "markdown",
      "source": [
        "read the answer from chatGPT, we alreay have dataframe \"df\". \n",
        "copy the code since the function \"def...\""
      ],
      "metadata": {
        "id": "X3Qekrp-eFwf"
      }
    },
    {
      "cell_type": "code",
      "source": [
        "#  remove commas and currency signs\n",
        "\n",
        "\n",
        "def remove_currency_signs_and_commas(value):\n",
        "    return int(value.replace('$', '').replace(',', ''))\n",
        "\n",
        "columns_to_clean = ['Sales', 'Buyers', 'Txns', 'Owners']\n",
        "\n",
        "for col in columns_to_clean:\n",
        "    df[col] = df[col].apply(remove_currency_signs_and_commas)\n",
        "\n",
        "print(df)\n"
      ],
      "metadata": {
        "id": "42q6DT3TVpD4"
      },
      "execution_count": null,
      "outputs": []
    },
    {
      "cell_type": "markdown",
      "source": [
        "If you run the above code, you'll get a error: 'float' object has no attribute 'replace'\n",
        "\n",
        "how to fix the error? \n",
        "\n",
        "copy and paste the error message and call chatGPT\n",
        "\n",
        "**Prompt:**\n",
        "error message: 'float' object has no attribute 'replace'\n",
        "\n",
        "![picture](https://drive.google.com/uc?export=view&id=1L8vCL5CVAl3BfdcC4t-iJdBlMARBBEII)\n",
        "\n",
        "\n"
      ],
      "metadata": {
        "id": "R5BJPqaMevxw"
      }
    },
    {
      "cell_type": "markdown",
      "source": [
        "chatGPT shows there might be some float values  and NaN (not a number) values in Dataframe. we need to modify the cleaning function for cleaning the mix-up data types."
      ],
      "metadata": {
        "id": "qoGhLefLgTvi"
      }
    },
    {
      "cell_type": "code",
      "source": [
        "# remove commas and currency signs\n",
        "\n",
        "def remove_currency_signs_and_commas(value):\n",
        "    if value == 'nan':\n",
        "        return None\n",
        "    if isinstance(value, str):\n",
        "        return value.replace('$', '').replace(',', '')\n",
        "    return value\n",
        "\n",
        "columns_to_clean = ['Sales', 'Buyers', 'Txns', 'Owners']\n",
        "\n",
        "for col in columns_to_clean:\n",
        "    df[col] = df[col].astype(str).apply(remove_currency_signs_and_commas)\n",
        "    df[col] = pd.to_numeric(df[col], errors='coerce', downcast='integer')\n",
        "\n",
        "print(df)\n",
        "\n",
        "# the value in \"owners\" is  an integer, but it might be displayed as a float in the DataFrame."
      ],
      "metadata": {
        "id": "4KPiWrsifXwF"
      },
      "execution_count": null,
      "outputs": []
    },
    {
      "cell_type": "markdown",
      "source": [
        "## Question: which collections have sold more than usd 500 million?"
      ],
      "metadata": {
        "id": "c-vti_Vdp56o"
      }
    },
    {
      "cell_type": "markdown",
      "source": [
        "**Prompt:**\n",
        "\n",
        "Make a bar chart to show the NFT collection that have sold more than 500 million, x axis is sales, unit is million, y axis is \"Collections\", using python seaborn"
      ],
      "metadata": {
        "id": "MK4bdbxCxVVW"
      }
    },
    {
      "cell_type": "code",
      "source": [
        "import seaborn as sns\n",
        "import matplotlib.pyplot as plt\n",
        "\n",
        "# Filter the DataFrame to only include collections with sales greater than 100 million\n",
        "filtered_df = df[df['Sales'] > 500_000_000]\n",
        "\n",
        "# Convert sales to millions\n",
        "filtered_df['Sales'] = filtered_df['Sales'] / 1_000_000\n",
        "\n",
        "# Create a horizontal bar chart\n",
        "plt.figure(figsize=(10, 6))\n",
        "sns.barplot(x='Sales', y='Collections', data=filtered_df)\n",
        "plt.xlabel('Sales (Millions USD)')\n",
        "plt.ylabel('NFT Collections')\n",
        "plt.title('NFT Collections with Sales Greater Than $500 Million')\n",
        "plt.show()"
      ],
      "metadata": {
        "id": "nlTz4xcLqJIf"
      },
      "execution_count": null,
      "outputs": []
    }
  ]
}