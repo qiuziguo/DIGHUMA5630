{
  "nbformat": 4,
  "nbformat_minor": 0,
  "metadata": {
    "colab": {
      "provenance": []
    },
    "kernelspec": {
      "name": "python3",
      "display_name": "Python 3"
    },
    "language_info": {
      "name": "python"
    }
  },
  "cells": [
    {
      "cell_type": "code",
      "source": [
        "# print \"Hello World\" in the screen\n",
        "# use the print function, it will show us the information we give it on the screen. \n",
        "# For example, if we want to see the number 100, we can write print(100), and the computer will display 100 on the screen for us.\n",
        "\n",
        "print(\"Hello World\")\n"
      ],
      "metadata": {
        "id": "ImKI59dTLIfl"
      },
      "execution_count": null,
      "outputs": []
    },
    {
      "cell_type": "markdown",
      "source": [
        "# Expressions and Operators"
      ],
      "metadata": {
        "id": "hnyZgwF6mCai"
      }
    },
    {
      "cell_type": "code",
      "source": [
        "# Type a simple mathematical statement like 1+1 in the block. Then run it. "
      ],
      "metadata": {
        "id": "dMtciNWhobmd"
      },
      "execution_count": null,
      "outputs": []
    },
    {
      "cell_type": "code",
      "source": [
        "# Type an expression that uses multiplication (*) in this cell. Then run it."
      ],
      "metadata": {
        "id": "kW1-pAYCnJTJ"
      },
      "execution_count": null,
      "outputs": []
    },
    {
      "cell_type": "code",
      "source": [
        "# Type an expression that uses division (/) in this cell. Then run it."
      ],
      "metadata": {
        "id": "OnaGnPsyn7YZ"
      },
      "execution_count": null,
      "outputs": []
    },
    {
      "cell_type": "markdown",
      "source": [
        "## Data Types (integer, float, string, boolean)\n",
        "In the above examples, our expressions evaluated to single numerical value. Numerical values come in two basic forms:\n",
        "\n",
        "*   integer (i.e., -2,0,3)\n",
        "*   float  (i.e., -3.5, 4.3)\n",
        "\n",
        "\n",
        "A snippet of text in Python is called a string. \n",
        "\n",
        "A string can be written with single or double quotes. A string can use letters, spaces, line breaks, and numbers.\n",
        "\n",
        "\"Hello world\",\"2023\",\"1.5\",'365 days' are all strings.\n",
        "\n",
        "To evaluate whether two values are equal, we can use two equals signs between them. The expression will evaluate to either `True` or `False`.\n",
        "\n",
        "A data type that represents either True or False is a boolean."
      ],
      "metadata": {
        "id": "gkZWHgQCocwg"
      }
    },
    {
      "cell_type": "code",
      "source": [
        "# Run this code cell to compare an integer with a string\n",
        "15 == '15'"
      ],
      "metadata": {
        "id": "nLo2NppYqjiv"
      },
      "execution_count": null,
      "outputs": []
    },
    {
      "cell_type": "markdown",
      "source": [
        "|Data Type | Explaination | Examples |\n",
        "|---|---|---|\n",
        "|String|Text| \"Hello World\"|\n",
        "|Integer|Whole Numbers | -2|\n",
        "|Float|Decimal Numbers| 2.3|\n",
        "|Boolean|True/False| True|\n",
        "\n",
        "\n",
        "\n"
      ],
      "metadata": {
        "id": "UZN0qD3KujC_"
      }
    },
    {
      "cell_type": "markdown",
      "source": [
        "\n",
        "We can transform one variable type into another variable type with the str(), int(), and float() functions. Let's convert the integer above into a string so we can concatenate it."
      ],
      "metadata": {
        "id": "JNiJmPYn_Mpm"
      }
    },
    {
      "cell_type": "code",
      "source": [
        "# Converting an integer into a string\n",
        "print('There are ' + str(7) + ' continents.')"
      ],
      "metadata": {
        "id": "B90Mye_a_XzV"
      },
      "execution_count": null,
      "outputs": []
    },
    {
      "cell_type": "code",
      "source": [
        "# Converting a float()into a int()\n",
        "a = 3.14\n",
        "b = int(a)\n",
        "print(b)\n"
      ],
      "metadata": {
        "id": "0gP5_eqEcEvY"
      },
      "execution_count": null,
      "outputs": []
    },
    {
      "cell_type": "markdown",
      "source": [
        "###Check Data Types\n",
        "You can check the data types by using function type()."
      ],
      "metadata": {
        "id": "TMaIEbssv5bT"
      }
    },
    {
      "cell_type": "code",
      "source": [
        "type(\"唐诗\")"
      ],
      "metadata": {
        "id": "iWmCHdmDwBRL"
      },
      "execution_count": null,
      "outputs": []
    },
    {
      "cell_type": "code",
      "source": [
        "type(42.0)"
      ],
      "metadata": {
        "id": "v4z6RAd-wUHP"
      },
      "execution_count": null,
      "outputs": []
    },
    {
      "cell_type": "markdown",
      "source": [
        "## Variables \n",
        "\n",
        "A variable is like a container that stores information. The variable name will point to a value that you “assign” it. You assign variables with an equals = sign.\n",
        "\n",
        "important: In Python, a single equals sign = is the “assignment operator.” A double equals sign == is the “real” equals sign.\n",
        "\n"
      ],
      "metadata": {
        "id": "7YgV-4WgxyzX"
      }
    },
    {
      "cell_type": "code",
      "source": [
        "# creates a new variable called new_variable and assigns it a value of 100, then print the value of variable.\n",
        "\n",
        "new_variable = 100\n",
        "print(new_variable)"
      ],
      "metadata": {
        "id": "HSq5fpQByQ7a"
      },
      "execution_count": null,
      "outputs": []
    },
    {
      "cell_type": "code",
      "source": [
        "# creates another variable called another_variable and assigns it a value of \"I'm another variable!\", then print the value of variable."
      ],
      "metadata": {
        "id": "k_8REUxAzCEm"
      },
      "execution_count": null,
      "outputs": []
    },
    {
      "cell_type": "markdown",
      "source": [
        "## The `print()` function and input () fuction\n",
        "\n",
        "a function is a small snippet of code that can be quickly referenced. we will address more functions later. For now, let's look at two of the most common  function:\n",
        "\n",
        "\n",
        "\n",
        "*   print ()\n",
        "*   input ()\n",
        "\n",
        "\n",
        "\n",
        "\n",
        "When we tell the computer to use the print function, it will show us the information we give it on the screen. \n",
        "\n",
        "We could also define a variable with our string, and then pass that variable into the print() function. It is common for functions to take an input, called an argument, that is placed inside the parenthese ().\n",
        "\n",
        "There is also an input() function for taking user input.\n"
      ],
      "metadata": {
        "id": "HASMu2hY2ZLd"
      }
    },
    {
      "cell_type": "code",
      "source": [
        "# A program to greet the user by name\n",
        "print('Hi. What is your name?') # Ask the user for their name\n",
        "user_name = input() # Take the user's input and put it into the variable user_name,\n",
        "print('Pleased to meet you, ' + user_name) # Print a greeting with the user's name"
      ],
      "metadata": {
        "id": "sddPntoo6tuW"
      },
      "execution_count": null,
      "outputs": []
    },
    {
      "cell_type": "code",
      "source": [
        "# A program to greet the user by name\n",
        "# Passing the prompt into the input() function\n",
        "# prints it automatically before taking the input\n",
        "user_name = input('Hi. What is your name? ')"
      ],
      "metadata": {
        "id": "ytib5IKb8V1R"
      },
      "execution_count": null,
      "outputs": []
    },
    {
      "cell_type": "markdown",
      "source": [
        "## Concatenation of strings：Use F-Strings for String Formatting\n",
        "\n",
        "When we use the addition operator on strings, they are combined into a single, longer string. This is called concatenation.\n",
        "\n",
        "An f string starts with a letter f and can automatically concatenate variables enclosed in curly braces, like {variable_name}."
      ],
      "metadata": {
        "id": "76E7S1gEwpx0"
      }
    },
    {
      "cell_type": "markdown",
      "source": [
        "\n",
        "F-strings is a way to format strings in Python 3.6 and later versions. \n",
        "\n",
        "F-strings are especially useful when formatting strings with multiple expressions, as they make it easier to read."
      ],
      "metadata": {
        "id": "DvnjtWREOLCE"
      }
    },
    {
      "cell_type": "code",
      "source": [
        "name = \"Lea\"\n",
        "city = \"Hong Kong\"\n",
        "\n",
        "# Using F-strings\n",
        "print(f\"My name is {name} and I live in {city}.\")\n"
      ],
      "metadata": {
        "id": "EjudAKDuWi1H"
      },
      "execution_count": null,
      "outputs": []
    },
    {
      "cell_type": "code",
      "source": [
        "\n",
        "name = input(\"What is your name? \")\n",
        "\n",
        "favorite_hobby = input(\"What is your favorite hobby? \")\n",
        "\n",
        "hours_per_week = input(\"On average, how many hours per week do you spend on your favorite hobby? \")\n",
        "\n",
        "favorite_color = input(\"What is your favorite color? \")\n",
        "\n",
        "# Write a print statement that combines all the information in a meaningful way\n",
        "\n",
        "# Possible Output: \"Hi, my name is [name] and my favorite hobby is [favorite_hobby], which I spend [hours_per_week] hours per week doing. My favorite color is [favorite_color].\"\n",
        "print(f\"Hi, my name is {name} and my favorite_hobby is {favorite_hobby}, which I spend {hours_per_week} hours per week doing. My favorite color is {favorite_color}.\")\n"
      ],
      "metadata": {
        "id": "nNJUz0a3Ntxx"
      },
      "execution_count": null,
      "outputs": []
    },
    {
      "cell_type": "markdown",
      "source": [
        "## Exercise 1 Input and F-strings\n",
        "\n"
      ],
      "metadata": {
        "id": "gdGSOMDeANJF"
      }
    },
    {
      "cell_type": "code",
      "source": [
        "# Using F-stings to combines all the information \n",
        "\n",
        "# 1. Get your first name and store it in a variable called `first_name`\n",
        "first_name = input(\"\")\n",
        "\n",
        "# 2. Get your last name and store it in a variable called `last_name`\n",
        "last_name = input(\"\")\n",
        "\n",
        "# 3. Get your favorite writer and store it in a variable called `favorite_writer`\n",
        "favorite_writer = input(\"\")\n",
        "\n",
        "# 4. Get an age when you start reading the writer's works and store it in a variable called \"read_age\"\n",
        "read_age = input(\"When did you start reading the writer's works?\")\n",
        "\n",
        "# 5. Write a print statement that combines all the information in a meaningful way\n",
        "\n",
        "# Possible Output: \"Hi, my name is [first_name] [last_name], I have been reading the [favorite_writer]'s works since I was [read_age] years old.\"\n"
      ],
      "metadata": {
        "id": "Qgei8S1hJqVO"
      },
      "execution_count": null,
      "outputs": []
    },
    {
      "cell_type": "markdown",
      "source": [
        "## Exercise 2 Beginning of the story\n"
      ],
      "metadata": {
        "id": "HWY3BeCCPvfp"
      }
    },
    {
      "cell_type": "code",
      "source": [
        "# Using F-stings to combines all the information \n",
        "\n",
        "protagonist = input(\"What is the name of the protagonist? \")\n",
        "\n",
        "location = input(\"Where does the story take place? \")\n",
        "\n",
        "genre = input(\"What is the genre of the story? \")\n",
        "\n",
        "goal = input(\"What is the protagonist's goal in the story? \")\n",
        "\n",
        "# 5. Write a print statement that creates the beginning of the story using the information collected\n",
        "\n",
        "# Possible Output: \"In the bustling city of [location], [protagonist] was on a mission. As a [genre] hero, [protagonist]'s goal was to [goal].\""
      ],
      "metadata": {
        "id": "CRldX64kPuC7"
      },
      "execution_count": null,
      "outputs": []
    }
  ]
}