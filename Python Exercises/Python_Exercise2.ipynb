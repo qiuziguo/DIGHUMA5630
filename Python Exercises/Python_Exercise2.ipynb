{
  "nbformat": 4,
  "nbformat_minor": 0,
  "metadata": {
    "colab": {
      "provenance": []
    },
    "kernelspec": {
      "name": "python3",
      "display_name": "Python 3"
    },
    "language_info": {
      "name": "python"
    }
  },
  "cells": [
    {
      "cell_type": "markdown",
      "source": [
        "**Today's focus:** flow control statements \n",
        "\n",
        "* Comparison operators\n",
        "* `if` statements\n",
        "* `else` statements\n",
        "* `elif` statements\n",
        "* `while` and `for` loop statements (Python has two main types of loops: for loops and while loops)\n",
        "* `break` and `continue` statements \n",
        "*  `try`/`except` statements\n",
        "\n",
        "\n"
      ],
      "metadata": {
        "id": "XjVIWzzMIaRf"
      }
    },
    {
      "cell_type": "markdown",
      "source": [
        "## What is flow control statements "
      ],
      "metadata": {
        "id": "qbdnTEcw-3zO"
      }
    },
    {
      "cell_type": "markdown",
      "source": [
        "![Flowchart to hangout with friends](https://live.staticflickr.com/65535/52691636112_83a3451eb8_b.jpg)\n",
        "\n"
      ],
      "metadata": {
        "id": "C53pqOnB3qVL"
      }
    },
    {
      "cell_type": "markdown",
      "source": [
        "Each complex program is made possible thanks to flow control statements. They are used to control the flow of a program's execution based on certain conditions. Flow control statements allow programmers to determine which parts of a program should be executed and how many times they should be executed.\n",
        "\n",
        "\n",
        "\n",
        "1.   conditional statements: `if`...`elif`...`else`\n",
        "2.   looop statements: `for` loop, `while` loop\n",
        "3.   Jump statements: `break` and `continue`; `try` and `except` \n",
        "\n"
      ],
      "metadata": {
        "id": "XYavoB9l_GYe"
      }
    },
    {
      "cell_type": "markdown",
      "source": [
        "### Comparison Operators\n",
        "\n",
        "Comparison operators are operators to compare two values or variables and return a boolean value (either true or false). Comparison operators are not in themselves a flow control statement, but they are often used in flow control statements to determine which block of code to execute based on the comparison result.\n",
        "\n",
        "we can use a comparison operator to ask whether two expressions are equal to each other.\n",
        "\n",
        "The result of a comparison is a Boolean value, either True or False. \n",
        "\n",
        "**Important:**\n",
        "\n",
        "The double equals symbol \"==\" is used to compare two values for equality, while the single equals symbol \"=\" is used to assign a value to a variable."
      ],
      "metadata": {
        "id": "MKpljXuHfbAS"
      }
    },
    {
      "cell_type": "markdown",
      "source": [
        "There are additional comparison operators that can help us with flow control statements.\n",
        "\n",
        "|Operator|Meaning|\n",
        "|---|---|\n",
        "|==|Equal to|\n",
        "|!=|Not equal to|\n",
        "|<|Less than|\n",
        "|>|Greater than|\n",
        "|<=|Less than or equal to|\n",
        "|>=|Greater than or equal to|"
      ],
      "metadata": {
        "id": "LSIU7ZyKg43q"
      }
    },
    {
      "cell_type": "code",
      "source": [
        "x = 5\n",
        "y = 10\n",
        "\n",
        "x == y "
      ],
      "metadata": {
        "id": "Ch47jfiNi_Kj"
      },
      "execution_count": null,
      "outputs": []
    },
    {
      "cell_type": "code",
      "source": [
        "x != y \n"
      ],
      "metadata": {
        "id": "W0eAH6zIjmNa"
      },
      "execution_count": null,
      "outputs": []
    },
    {
      "cell_type": "code",
      "source": [
        "x < y  \n"
      ],
      "metadata": {
        "id": "hEQuu3ygjpRy"
      },
      "execution_count": null,
      "outputs": []
    },
    {
      "cell_type": "code",
      "execution_count": null,
      "metadata": {
        "id": "VAQtXxIQDWCs"
      },
      "outputs": [],
      "source": [
        "# Comparing two values with the comparison operator ==\n",
        "67 == 67"
      ]
    },
    {
      "cell_type": "code",
      "execution_count": null,
      "metadata": {
        "id": "jgl2u70CDWCs"
      },
      "outputs": [],
      "source": [
        "# Note, a comparison operator uses ==\n",
        "# Do not confuse with variable assignment statement which uses a single =\n",
        "# variable name is placed on the left side, the equal sign and the value to be assigned is placed on the right side.\n",
        "# In python, variable names must start with a letter or an underscore character, so 67 cannot be a varible name.\n",
        "\n",
        "67 = 67"
      ]
    },
    {
      "cell_type": "code",
      "execution_count": null,
      "metadata": {
        "id": "tw51_FAzDWCt"
      },
      "outputs": [],
      "source": [
        "# Use the \"equal to\" operator with a string\n",
        "\"the one\" == \"the one\""
      ]
    },
    {
      "cell_type": "code",
      "execution_count": null,
      "metadata": {
        "id": "XNYvgTOqDWCu"
      },
      "outputs": [],
      "source": [
        "# Evaluating two conditions with integers at once\n",
        "# The and operator is a logical operator that returns True only if both of its operands are True. \n",
        "(3 < 22) and (60 == 34) # What does each condition evaluate to?"
      ]
    },
    {
      "cell_type": "code",
      "execution_count": null,
      "metadata": {
        "id": "otF2rm5XPs7q"
      },
      "outputs": [],
      "source": [
        "# Using a comparison operator on a variable\n",
        "# Create a variable number_of_dogs and assign the value of zero\n",
        "number_of_dogs = 0\n",
        "\n",
        "# Check whether number_of_dogs is greater than or equal to 1\n",
        "number_of_dogs >= 1"
      ]
    },
    {
      "cell_type": "markdown",
      "source": [
        "\n",
        "## if statements\n",
        "\n",
        "An if statement begins with an expression that evaluates to True or False.\n",
        "\n",
        "* if **True**, then perform this action\n",
        "* if **False**, skip over this action\n",
        "\n",
        "In practice, the form looks like this:\n",
        "\n",
        "`if this is True:` <br />\n",
        "&nbsp; &nbsp; &nbsp; &nbsp; `perform this action`"
      ],
      "metadata": {
        "id": "jWCodFojdBJr"
      }
    },
    {
      "cell_type": "code",
      "source": [
        "if x > 5:\n",
        "    print(\"x is greater than 5\") # in the case of if statement, there are 4 spaces indentation before print()"
      ],
      "metadata": {
        "id": "rEN8fPzRDQNt"
      },
      "execution_count": null,
      "outputs": []
    },
    {
      "cell_type": "markdown",
      "source": [
        "### `else` Statements\n",
        "\n",
        "An `else` statement *does not require a condition* to evaluate to **True** or **False**. It simply executes when none of the previous conditions are met. The form looks like this:\n",
        "\n",
        "`else:` <br />\n",
        "&nbsp; &nbsp; &nbsp; &nbsp; `perform this action`"
      ],
      "metadata": {
        "id": "veoKbg2XCuYk"
      }
    },
    {
      "cell_type": "code",
      "source": [
        "if x > 5:\n",
        "    print(\"x is greater than 5\")\n",
        "else:\n",
        "    print(\"x is less than or equal to 5\")\n"
      ],
      "metadata": {
        "id": "YdSKVbKbDns0"
      },
      "execution_count": null,
      "outputs": []
    },
    {
      "cell_type": "markdown",
      "source": [
        "### `elif` Statements\n",
        "\n",
        "An `elif` statement, short for \"else if,\" allows us to create a list of possible conditions where one (and only one) action will be executed. `elif` statements come after an initial `if` statement and before an `else` statement:\n",
        "\n",
        "`if condition A is True:` <br />\n",
        "&nbsp; &nbsp; &nbsp; &nbsp; `perform action A` <br />\n",
        "`elif condition B is True:` <br />\n",
        "&nbsp; &nbsp; &nbsp; &nbsp; `perform action B` <br />\n",
        "`elif condition C is True:` <br />\n",
        "&nbsp; &nbsp; &nbsp; &nbsp; `perform action C` <br />\n",
        "`elif condition D is True:` <br />\n",
        "&nbsp; &nbsp; &nbsp; &nbsp; `perform action D` <br />\n",
        "`else:` <br />\n",
        "&nbsp; &nbsp; &nbsp; &nbsp;`perform action E`\n",
        "\n",
        "For example, we could add an `elif` statement to our program so it responds to both \"Yes\" and \"No\" with unique answers. We could then add an `else` statement that responds to any user input that is not \"Yes\" or \"No\"."
      ],
      "metadata": {
        "id": "ymKa28h1LV-7"
      }
    },
    {
      "cell_type": "code",
      "source": [
        "\n",
        "# Design an if...elif...else statement to check a person's temperature is high, normal or low.\n",
        "# example \n",
        "\n",
        "# Ask the user to input their temperature in degrees Celsius\n",
        "# because input() function always returns a string, we need to use float() to convert user's input from string to a floating-point number\n",
        "temperature = float(input(\"Please enter your temperature in degrees Celsius: \"))\n",
        "\n",
        "# Check if the temperature is high, normal, or low\n",
        "if temperature > 38:\n",
        "    # If the temperature is greater than 38 degrees Celsius, print the message \"You have a fever.\"\n",
        "    print(\"Your temperature is high.\")\n",
        "\n",
        "    # If the temperature is between 36.5 and 37.5 degrees Celsius, print the message \"Your temperature is normal.\"\n",
        "elif temperature \n",
        "    \n",
        "    \n",
        "else:\n",
        "    # If the temperature is less than 36.5 degrees Celsius, print the message \"Your temperature is low.\"\n",
        "    \n"
      ],
      "metadata": {
        "id": "GCkBlqdeMkFD"
      },
      "execution_count": null,
      "outputs": []
    },
    {
      "cell_type": "markdown",
      "source": [
        "### `while` Loop Statements\n",
        "\n",
        "While loop: execute code while the condition remains true, if it’s not true, then you exit out of the while loop. \n",
        " \n",
        "\n",
        " We can accomplish this with a while loop statement that takes the form:\n",
        "\n",
        "`while condition is True:` <br />\n",
        "&nbsp; &nbsp; &nbsp; &nbsp;`take this action`"
      ],
      "metadata": {
        "id": "aUWnV68bQPsr"
      }
    },
    {
      "cell_type": "code",
      "source": [
        "name = input(\"Enter your name: \")\n",
        "\n",
        "if name ==\"\":   # empty string, the user hasn’t enter anything \n",
        "    print (\"You did not enter your name\")\n",
        "else:           # or they really enter in a name.\n",
        "   print(f\"Hello, {name}\")\n",
        "\n"
      ],
      "metadata": {
        "id": "Lo8ETI3HPmAu"
      },
      "execution_count": null,
      "outputs": []
    },
    {
      "cell_type": "code",
      "source": [
        "# Or we could replace `if` loop with a while loop, becasue we want to prompt the user to type in their names.\n",
        "\n",
        "name = input(\"Enter your name: \")\n",
        "\n",
        "while name == \"\":\n",
        "    print (\"You did not enter your name\")\n",
        "    name = input(\"Enter your name: \")\n",
        "\n",
        "print(f\"Hello {name}\")"
      ],
      "metadata": {
        "id": "_9sHXdQZS8FP"
      },
      "execution_count": null,
      "outputs": []
    },
    {
      "cell_type": "code",
      "execution_count": null,
      "metadata": {
        "id": "si-ck0Lmr3pF"
      },
      "outputs": [],
      "source": [
        "# set the initial value of i to 0\n",
        "i = 0 \n",
        "\n",
        "# loop while i is less than 3\n",
        "while i < 3:\n",
        "    print(i)\n",
        "    \n",
        "    # an increment operation that adds 1 to the current value of the variable \"i\".\n",
        "    # This means that each time the loop executes, the value of \"i\" increases by 1.\n",
        "    i = i + 1 # We can also write an equivalent shortcut: i += 1"
      ]
    },
    {
      "cell_type": "markdown",
      "source": [
        "### `for` Loop Statements\n",
        "for loop, a type of definite iteration.\n",
        "With for loops, on each iteration, we will be able to perform an action on each element of the specific collection.\n",
        "\n",
        "before learning `for`loop, we need to know about list.\n",
        "\n",
        "\n"
      ],
      "metadata": {
        "id": "tev4HwnjZAD9"
      }
    },
    {
      "cell_type": "markdown",
      "source": [
        "#### list \n",
        "\n",
        "In Python, we can create a variable called heights to store these integers into a list\n",
        "\n",
        "heights = [61, 70, 67, 64]\n",
        "\n",
        "\n",
        "\n",
        "1.   A list begins and ends with square brackets ([ and ]).\n",
        "2.   Each item (i.e., 67 or 70) is separated by a comma (,)\n",
        "3.   It’s considered good practice to insert a space () after each comma, but your code will run just fine if you forget the space.\n",
        "\n",
        "Lists can contain more than just numbers.\n",
        "\n",
        "ints_and_strings = [1, 2, 3, \"four\", \"five\"]\n",
        "\n",
        "A list doesn’t have to contain anything. You can create an empty list like this:\n",
        "\n",
        "empty_list = []\n",
        "\n"
      ],
      "metadata": {
        "id": "fffv4vzKgqCN"
      }
    },
    {
      "cell_type": "markdown",
      "source": [
        "#### list methods\n",
        "list methods is the built-in functions of list that can be used to create and manipulate data.\n",
        "\n",
        "An example of a popular list method is `.append()`, which allows us to add an element to the end of a list."
      ],
      "metadata": {
        "id": "QxSREuQiiVax"
      }
    },
    {
      "cell_type": "code",
      "source": [
        "append_example = [ 'This', 'is', 'my', 'apple']\n",
        "append_example.append('juice')\n",
        " \n",
        "print(append_example)"
      ],
      "metadata": {
        "id": "JsTHujLki4dJ"
      },
      "execution_count": null,
      "outputs": []
    },
    {
      "cell_type": "code",
      "source": [
        "# Create a list\n",
        "garden = [\"Tomatoes\", \"Grapes\", \"Cauliflower\"]\n",
        " \n",
        "# Append a new element\n",
        "garden.append(\"Green Beans\")\n",
        "print(garden)\n"
      ],
      "metadata": {
        "id": "T4iDDQIVjNyx"
      },
      "execution_count": null,
      "outputs": []
    },
    {
      "cell_type": "markdown",
      "source": [
        "#### `for` loop: loop through the list"
      ],
      "metadata": {
        "id": "pzIlO24djwSf"
      }
    },
    {
      "cell_type": "code",
      "source": [
        "# Define a list of games \n",
        "games = [\"football\", \"hockey\", \"baseball\", \"cricket\"]\n",
        "\n",
        "# Loop over each game in the list\n",
        "# we create variable \"game\" as a loop variable, which means it's assigned to each item in the games list.\n",
        "# we name is \"game\" is a convention, and any valid variable name could be used in its place. \n",
        "# you can also name loop variable \"item\".\n",
        "\n",
        "for game in games:\n",
        "    print(game)"
      ],
      "metadata": {
        "id": "E37es62Sjs8R"
      },
      "execution_count": null,
      "outputs": []
    },
    {
      "cell_type": "code",
      "source": [
        "# Print the sum of the numbers in the list using a for loop.\n",
        "# Define a list of numbers\n",
        "numbers = [2, 5, 8, 12, 20]\n",
        "\n",
        "# Initialize a variable to hold the sum of the numbers\n",
        "total_sum = 0\n",
        "\n",
        "for item in numbers:  # Loop over each number in the list\n",
        "    total_sum += item  # Add the current number to the total sum\n",
        "\n",
        "print (total_sum)\n",
        "\n"
      ],
      "metadata": {
        "id": "EbyexHE-tiXV"
      },
      "execution_count": null,
      "outputs": []
    },
    {
      "cell_type": "markdown",
      "source": [
        "### `Continue` and `Break` Statements\n",
        "`while` loops and `for` loops can also use `continue` and `break` statements to affect flow control. \n",
        "* A `continue` statement immediately restarts the loop.\n",
        "* A `break` statement immediately exits the loop."
      ],
      "metadata": {
        "id": "4X2uRu3kZAD-"
      }
    },
    {
      "cell_type": "code",
      "execution_count": null,
      "metadata": {
        "id": "grdDS7LZp2sP"
      },
      "outputs": [],
      "source": [
        "# A program that asks the user to guess a number\n",
        "\n",
        "# Initialize the variables `guess` and `secret_number`\n",
        "guess = 0\n",
        "secret_number = str(4) # The secret number is set here by the programmer. Notice it is turned into a string so it can be easily compared with user inputs.\n",
        "\n",
        "# Ask the user to make a guess\n",
        "print('I am thinking of a number between 1-10.') \n",
        "\n",
        "# Test whether the user guess matches `secret_number`\n",
        "while True:\n",
        "    guess = input('What is your guess? ')\n",
        "    if guess == secret_number:\n",
        "        break\n",
        "    else:\n",
        "        continue\n",
        "        \n",
        "        \n",
        "# After loop ends, print a congratulations message with the secret number       \n",
        "print('You guessed the secret number, ' + secret_number) "
      ]
    },
    {
      "cell_type": "markdown",
      "source": [
        "### Exception Handling with `try` and `except`\n",
        "\n",
        "When running code that may create an error, we can use `try` and `except` statements to stop a program from crashing."
      ],
      "metadata": {
        "id": "kN7nK453qFnB"
      }
    },
    {
      "cell_type": "code",
      "execution_count": null,
      "metadata": {
        "id": "9jGBBsR0Ps7t"
      },
      "outputs": [],
      "source": [
        "# Try running the first code block, if there's an error then run the `except` code\n",
        "\n",
        "try:\n",
        "    user_number = input('Please enter a whole number: ')\n",
        "    user_number = int(user_number)\n",
        "    print('Thank you for entering a whole number.')\n",
        "\n",
        "except:\n",
        "    print('That is not a whole number.')\n"
      ]
    },
    {
      "cell_type": "markdown",
      "source": [
        "##In-class Practice"
      ],
      "metadata": {
        "id": "N_afaY5rqXcl"
      }
    },
    {
      "cell_type": "code",
      "source": [
        "# finish the code below \n",
        "\n",
        "# If it is raining, print out \"Bring an umbrella.\"\n",
        "# else \"Don't need to bring an umbrella.\"\"\n",
        "\n",
        "# Ask the user whether it's raining\n",
        "is_raining = input(\"Is it raining? (yes or no) \")\n",
        "\n",
        "# Check if it's raining\n",
        "if is_raining == \"yes\":\n",
        "    # If it's raining, print the message \"Bring an umbrella.\"\n",
        "    print(\"\")\n",
        "\n",
        "    # If it's not raining, print the message \"You don't need to bring an umbrella.\"\n"
      ],
      "metadata": {
        "id": "ejfg-QcoqfXG"
      },
      "execution_count": null,
      "outputs": []
    },
    {
      "cell_type": "code",
      "execution_count": null,
      "metadata": {
        "scrolled": true,
        "id": "8jMJXFV0Ps7s"
      },
      "outputs": [],
      "source": [
        "# A program that asks the user to guess a number\n",
        "\n",
        "# The secret number is set here by the programmer.\n",
        "secret_number = str(4) # We convert the integer to a string, becasue input() function returns a string, they need to be compared easily.\n",
        "\n",
        "# Ask the user to make a guess and take input in a string\n",
        "guess = input('I am thinking of a number between 1-10. Can you guess it? ') # Take the user's first guess\n",
        "\n",
        "# Check to see if the user guess matches our secret number\n",
        "while  # While the users guess does not equal secret_number\n",
        "       # Allow the user to change the value of guess\n",
        "\n",
        " # Print you guess the seerct number using f string"
      ]
    },
    {
      "cell_type": "code",
      "source": [
        "# use while loop to ask user's age\n",
        "\n",
        "age = int(input(\"Enter your age: \"))\n",
        "\n",
        "while age <0: \n",
        "    print(\"Age cannot be negative\")\n",
        "    #let the user re-input age\n",
        "\n",
        "#print out the age: \"You are {age} years old\", using f string. "
      ],
      "metadata": {
        "id": "7ZCkuxfFX1oO"
      },
      "execution_count": null,
      "outputs": []
    },
    {
      "cell_type": "code",
      "source": [
        "#  Calculate the sum of these numbers\n",
        "\n",
        "numbers = [2, 7, 10, 19, 56]\n",
        "\n"
      ],
      "metadata": {
        "id": "EHtTjqbXteWa"
      },
      "execution_count": null,
      "outputs": []
    },
    {
      "cell_type": "code",
      "execution_count": null,
      "metadata": {
        "id": "avNpQdOWPs7u"
      },
      "outputs": [],
      "source": [
        "# using continue/break\n",
        "# A program that checks to see if a user is old enough to drive.\n",
        "# Verifies user has input a number and it is realistic.\n",
        "\n",
        "# Find a solution to address when a user enters text that is not a number.\n",
        "\n",
        "user_name = input('What is your name? ')\n",
        "\n",
        "while True:\n",
        "    user_age = input('What is your age? ')\n",
        "    try:\n",
        "        user_age = int(user_age)\n",
        "        if user_age > 120:\n",
        "            print(f'Is {user_name} a human or a turtle?')\n",
        "        elif user_age < 5:\n",
        "            print(f'{user_name} is not even ready for a bicycle!')\n",
        "        elif user_age >= 16:\n",
        "            print(f'{user_name} is old enough to drive.')\n",
        "        elif user_age < 16:\n",
        "            print(f'{user_name} is not old enough to drive.')\n",
        "        break\n",
        "    except:\n",
        "        print('Please input a number for your age.')\n",
        "        continue"
      ]
    }
  ]
}