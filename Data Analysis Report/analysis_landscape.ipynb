{
  "nbformat": 4,
  "nbformat_minor": 0,
  "metadata": {
    "colab": {
      "provenance": []
    },
    "kernelspec": {
      "name": "python3",
      "display_name": "Python 3"
    },
    "language_info": {
      "name": "python"
    }
  },
  "cells": [
    {
      "cell_type": "code",
      "execution_count": 31,
      "metadata": {
        "id": "B6wcPCntjZDE"
      },
      "outputs": [],
      "source": [
        "\n",
        "\n",
        "import pandas as pd\n",
        "import matplotlib.pyplot as plt\n",
        "import matplotlib.cm as cm\n"
      ]
    },
    {
      "cell_type": "code",
      "source": [
        "# Read in your data\n",
        "df = pd.read_csv('/content/clean_landscape.csv')"
      ],
      "metadata": {
        "id": "ovDOziA2jyOC"
      },
      "execution_count": 32,
      "outputs": []
    },
    {
      "cell_type": "markdown",
      "source": [
        "# Explore the cultural diversity of landscape artworks\n",
        "\n",
        "\n",
        "In the Asian art department, from which regions do the landscape works come? "
      ],
      "metadata": {
        "id": "3WFxgg4kOPp1"
      }
    },
    {
      "cell_type": "code",
      "source": [
        "# Get the unique values in the \"culture\" column\n",
        "culture = pd.unique(df[\"culture\"])\n",
        "\n",
        "# get the total number of unique cultures\n",
        "num_culture = len(culture)\n",
        "\n",
        "# Count the number of occurrences of each country\n",
        "counts = df[\"culture\"].value_counts()\n",
        "\n",
        "# Get the top 5 \n",
        "top_5 = counts.head(5)\n",
        "\n",
        "\n",
        "# Create a new DataFrame with the country names as the index and the count as the values\n",
        "data = pd.DataFrame(top_5)\n",
        "\n",
        "# Reset the index and rename the columns\n",
        "data.reset_index(inplace=True)\n",
        "data.columns = [\"culture\", \"count\"]\n",
        "\n",
        "print(num_culture)\n",
        "print(data)\n",
        "\n"
      ],
      "metadata": {
        "id": "68a_-OoqkOlK"
      },
      "execution_count": null,
      "outputs": []
    },
    {
      "cell_type": "markdown",
      "source": [
        "The Met's Asian art collection is dominated by landscape works from China and Japan, which occupy the top two places with 1,022 and 1,015 works, respectively. But the collection covers a wide range of cultural regions, 45 in all."
      ],
      "metadata": {
        "id": "2eqXyfY30qGF"
      }
    },
    {
      "cell_type": "code",
      "source": [
        "# Visualize the result\n",
        "import matplotlib.cm as cm\n",
        "\n",
        "# get a color map with 10 distinct colors\n",
        "colors = cm.get_cmap('tab10').colors\n",
        "\n",
        "\n",
        "# ax (axes) is object that holds all of the elements of a signle plot\n",
        "# The axes object can be seen as as a canvas on which you can 'draw' your data.\n",
        "\n",
        "ax= data.plot(kind='bar', x='culture', y='count', color=colors, edgecolor = 'black', width=0.5, rot=90)\n",
        "\n",
        "# i and v are loop variables that are used to iterate over the values in the \"count\" column of the data DataFrame.\n",
        "# plt.text() call to use the culture names\n",
        "\n",
        "for i, v in enumerate(data[\"count\"]):\n",
        "    plt.text(i-.25, v, str(v))\n",
        "\n",
        "\n",
        "plt.xlabel(\"culture\")\n",
        "plt.ylabel(\"count\")\n",
        "plt.title(\"Mapping Landscape in MET\")\n",
        "plt.xticks(rotation=45)\n",
        "\n",
        "plt.show()"
      ],
      "metadata": {
        "id": "e_-REmRtkaD9"
      },
      "execution_count": null,
      "outputs": []
    },
    {
      "cell_type": "markdown",
      "source": [
        "# Mapping Chinese Landscape in MET"
      ],
      "metadata": {
        "id": "ajrEfk3TyFns"
      }
    },
    {
      "cell_type": "code",
      "source": [
        "\n",
        "# Select the rows where the \"culture\" column is \"China\"\n",
        "df_china = df[df[\"culture\"] == \"China\"]\n",
        "\n",
        "# Save the selected rows to a new CSV file\n",
        "df_china.to_csv(\"Chinese_landscape.csv\", index=False)"
      ],
      "metadata": {
        "id": "cA7SKI-wiEQs"
      },
      "execution_count": 21,
      "outputs": []
    },
    {
      "cell_type": "code",
      "source": [
        "# Read in your data\n",
        "df2 = pd.read_csv('/content/Chinese_landscape.csv')"
      ],
      "metadata": {
        "id": "VGcB4Yr_ykjP"
      },
      "execution_count": 25,
      "outputs": []
    },
    {
      "cell_type": "markdown",
      "source": [
        "How would you identify the dynasty that holds the largest representation in the Met's collection?"
      ],
      "metadata": {
        "id": "OhLdG13P3_9O"
      }
    },
    {
      "cell_type": "code",
      "source": [
        "# Get the unique values in the \"period\" column\n",
        "period = pd.unique(df2[\"period\"])\n",
        "\n",
        "# Count the number of occurrences of each country\n",
        "counts = df2[\"period\"].value_counts()\n",
        "\n",
        "# Get the top 5 countries\n",
        "top_5 = counts.head(5)\n",
        "\n",
        "\n",
        "# Create a new DataFrame with the country names as the index and the count as the values\n",
        "data2 = pd.DataFrame(top_5)\n",
        "\n",
        "# Reset the index and rename the columns\n",
        "data2.reset_index(inplace=True)\n",
        "data2.columns = [\"period\", \"count\"]\n",
        "\n",
        "print(data2)\n",
        "\n"
      ],
      "metadata": {
        "id": "g4qrSeqWysgd"
      },
      "execution_count": null,
      "outputs": []
    },
    {
      "cell_type": "markdown",
      "source": [
        "The landscape works of the Ming and Qing dynasties are the most numerous, but the Southern Song dynasty also made a considerable contribution."
      ],
      "metadata": {
        "id": "QAHKhzjx4Zkx"
      }
    },
    {
      "cell_type": "code",
      "source": [
        "# now we want to explore the accession year. I want to group the access year by decades.\n",
        "\n",
        "import numpy as np\n",
        "\n",
        "# get all values in accessionYear column\n",
        "\n",
        "years_list = df2['accessionYear'].tolist()\n",
        "\n",
        "# Create the bins for the years\n",
        "min_year = min(years_list)\n",
        "max_year = max(years_list)\n",
        "bins = np.arange(min_year, max_year+10, 10)\n",
        "\n",
        "# Create the labels for the bins\n",
        "labels = [f'{x}0s' for x in range(min_year//10+1, (max_year//10)+1)]\n",
        "\n",
        "# Group the years into the bins\n",
        "df2['decade'] = pd.cut(df2['accessionYear'], bins=bins, labels=labels)\n",
        "\n",
        "\n"
      ],
      "metadata": {
        "id": "SY5OKmuK3wYf"
      },
      "execution_count": 41,
      "outputs": []
    },
    {
      "cell_type": "code",
      "source": [
        "df2.to_csv(\"Chinese_landscape_decade.csv\", index=False)"
      ],
      "metadata": {
        "id": "keMczqhD31uW"
      },
      "execution_count": 43,
      "outputs": []
    },
    {
      "cell_type": "code",
      "source": [
        "# Get the frequency of each decade \n",
        "\n",
        "count_decade = df2['decade'].value_counts()\n",
        "\n",
        "print (count_decade)\n",
        "\n",
        "count_decade.to_csv(\"which decade accquire the most Chinese landscape.csv\",sep=',',index=True)\n"
      ],
      "metadata": {
        "id": "2N_iCSLZrkNQ"
      },
      "execution_count": null,
      "outputs": []
    },
    {
      "cell_type": "code",
      "source": [
        "# Create a line chart of the binned data\n",
        "df2['decade'].value_counts().sort_index().plot(kind='line')\n",
        "\n",
        "# Add axis labels\n",
        "plt.xlabel('Decade')\n",
        "plt.ylabel('Number of Items')\n",
        "plt.title(\"Number of acquired Chinese landscape\")\n",
        "\n",
        "\n",
        "# Show the chart\n",
        "plt.show()"
      ],
      "metadata": {
        "id": "6Kc3UY0d19oH"
      },
      "execution_count": null,
      "outputs": []
    },
    {
      "cell_type": "markdown",
      "source": [
        "The Met began collecting Chinese landscape works in the 1890s, which gained significant momentum in the 1910s. This is because after the abdication of the Qing emperor, a large number of cultural relics from the Forbidden City went to the people and overseas. Fewer landscapes were collected in the 1950s-70s, but they peaked again in the 1980s."
      ],
      "metadata": {
        "id": "jCD-rlwA4qCM"
      }
    }
  ]
}