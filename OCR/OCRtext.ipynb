{
  "nbformat": 4,
  "nbformat_minor": 0,
  "metadata": {
    "colab": {
      "provenance": []
    },
    "kernelspec": {
      "name": "python3",
      "display_name": "Python 3"
    },
    "language_info": {
      "name": "python"
    }
  },
  "cells": [
    {
      "cell_type": "markdown",
      "source": [
        "pytesseract is a Python wrapper for Google's Tesseract-OCR Engine, which is an optical character recognition (OCR) tool for extracting text from images. Here we use pytesseract to perform OCR on texts, in English and Chinese. \n"
      ],
      "metadata": {
        "id": "O9w1XTMRr5H3"
      }
    },
    {
      "cell_type": "code",
      "execution_count": null,
      "metadata": {
        "id": "IGsnK2TX8ANl"
      },
      "outputs": [],
      "source": [
        "# install pytesseract\n",
        "\n",
        "!pip install pytesseract"
      ]
    },
    {
      "cell_type": "code",
      "source": [
        "# install tesseract-ocr \n",
        "\n",
        "!apt install tesseract-ocr"
      ],
      "metadata": {
        "id": "iNOspq3J89Rn"
      },
      "execution_count": null,
      "outputs": []
    },
    {
      "cell_type": "code",
      "source": [
        "import pytesseract\n",
        "from PIL import Image"
      ],
      "metadata": {
        "id": "pb-thwUh8XZI"
      },
      "execution_count": null,
      "outputs": []
    },
    {
      "cell_type": "code",
      "source": [
        "# Open the image file\n",
        "img = Image.open(\"1.png\")\n",
        "\n",
        "# Perform OCR on the image\n",
        "text = pytesseract.image_to_string(img)\n",
        "\n",
        "# Save the OCR text in a text file\n",
        "with open(\"output.txt\", \"w\") as f:\n",
        "    f.write(text)"
      ],
      "metadata": {
        "id": "wQW10OXO8dsK"
      },
      "execution_count": null,
      "outputs": []
    },
    {
      "cell_type": "markdown",
      "source": [
        "To perform OCR on traditional Chinese text using pytesseract, you'll need to use a trained language data file for traditional Chinese. https://github.com/tesseract-ocr/tessdata \n",
        "here you can find the trained data from different languages.\n"
      ],
      "metadata": {
        "id": "CAcRuHw79-bd"
      }
    },
    {
      "cell_type": "code",
      "source": [
        "!wget https://github.com/tesseract-ocr/tessdata/raw/main/chi_tra.traineddata"
      ],
      "metadata": {
        "id": "p_eMlclAAFEe"
      },
      "execution_count": null,
      "outputs": []
    },
    {
      "cell_type": "code",
      "source": [
        "# Load the image\n",
        "img = Image.open(\"2.png\")\n",
        "\n",
        "# Specify the tessdata directory, which contains the language data files\n",
        "pytesseract.pytesseract.tesseract_cmd = r'/usr/bin/tesseract'\n",
        "\n",
        "\n",
        "# Perform OCR on the image, specifying the language as traditional Chinese\n",
        "text = pytesseract.image_to_string(img, lang=\"chi_tra\", config='--tessdata-dir .')\n",
        "\n",
        "\n",
        "# Print the recognized text\n",
        "print(text)"
      ],
      "metadata": {
        "id": "9al6179oAWMe"
      },
      "execution_count": null,
      "outputs": []
    }
  ]
}