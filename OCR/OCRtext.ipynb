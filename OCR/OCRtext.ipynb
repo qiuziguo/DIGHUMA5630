{
  "nbformat": 4,
  "nbformat_minor": 0,
  "metadata": {
    "colab": {
      "provenance": []
    },
    "kernelspec": {
      "name": "python3",
      "display_name": "Python 3"
    },
    "language_info": {
      "name": "python"
    }
  },
  "cells": [
    {
      "cell_type": "code",
      "execution_count": 26,
      "metadata": {
        "colab": {
          "base_uri": "https://localhost:8080/"
        },
        "id": "IGsnK2TX8ANl",
        "outputId": "8ea63ba6-9dd5-43d2-d18a-c32f0aa39695"
      },
      "outputs": [
        {
          "output_type": "stream",
          "name": "stdout",
          "text": [
            "Looking in indexes: https://pypi.org/simple, https://us-python.pkg.dev/colab-wheels/public/simple/\n",
            "Requirement already satisfied: pytesseract in /usr/local/lib/python3.8/dist-packages (0.3.10)\n",
            "Requirement already satisfied: packaging>=21.3 in /usr/local/lib/python3.8/dist-packages (from pytesseract) (23.0)\n",
            "Requirement already satisfied: Pillow>=8.0.0 in /usr/local/lib/python3.8/dist-packages (from pytesseract) (9.4.0)\n"
          ]
        }
      ],
      "source": [
        "!pip install pytesseract"
      ]
    },
    {
      "cell_type": "code",
      "source": [
        "!apt install tesseract-ocr"
      ],
      "metadata": {
        "colab": {
          "base_uri": "https://localhost:8080/"
        },
        "id": "iNOspq3J89Rn",
        "outputId": "7c06698a-581d-4e90-f88c-30c2da2d8f9c"
      },
      "execution_count": 27,
      "outputs": [
        {
          "output_type": "stream",
          "name": "stdout",
          "text": [
            "Reading package lists... Done\n",
            "Building dependency tree       \n",
            "Reading state information... Done\n",
            "tesseract-ocr is already the newest version (4.1.1-2build2).\n",
            "The following package was automatically installed and is no longer required:\n",
            "  libnvidia-common-510\n",
            "Use 'apt autoremove' to remove it.\n",
            "0 upgraded, 0 newly installed, 0 to remove and 27 not upgraded.\n"
          ]
        }
      ]
    },
    {
      "cell_type": "code",
      "source": [
        "import pytesseract\n",
        "from PIL import Image"
      ],
      "metadata": {
        "id": "pb-thwUh8XZI"
      },
      "execution_count": 29,
      "outputs": []
    },
    {
      "cell_type": "code",
      "source": [
        "# Open the image file\n",
        "img = Image.open(\"1.png\")\n",
        "\n",
        "# Perform OCR on the image\n",
        "text = pytesseract.image_to_string(img)\n",
        "\n",
        "# Save the OCR text in a text file\n",
        "with open(\"output.txt\", \"w\") as f:\n",
        "    f.write(text)"
      ],
      "metadata": {
        "id": "wQW10OXO8dsK"
      },
      "execution_count": 30,
      "outputs": []
    },
    {
      "cell_type": "markdown",
      "source": [
        "To perform OCR on traditional Chinese text using pytesseract, you'll need to use a trained language data file for traditional Chinese. https://github.com/tesseract-ocr/tessdata \n",
        "here you can find the trained data from different languages.\n"
      ],
      "metadata": {
        "id": "CAcRuHw79-bd"
      }
    },
    {
      "cell_type": "code",
      "source": [
        "!wget https://github.com/tesseract-ocr/tessdata/raw/main/chi_tra.traineddata"
      ],
      "metadata": {
        "colab": {
          "base_uri": "https://localhost:8080/"
        },
        "id": "p_eMlclAAFEe",
        "outputId": "6019cba6-a4d0-4251-8503-ab01606c50a1"
      },
      "execution_count": 31,
      "outputs": [
        {
          "output_type": "stream",
          "name": "stdout",
          "text": [
            "--2023-02-05 19:25:59--  https://github.com/tesseract-ocr/tessdata/raw/main/chi_tra.traineddata\n",
            "Resolving github.com (github.com)... 140.82.121.3\n",
            "Connecting to github.com (github.com)|140.82.121.3|:443... connected.\n",
            "HTTP request sent, awaiting response... 302 Found\n",
            "Location: https://raw.githubusercontent.com/tesseract-ocr/tessdata/main/chi_tra.traineddata [following]\n",
            "--2023-02-05 19:25:59--  https://raw.githubusercontent.com/tesseract-ocr/tessdata/main/chi_tra.traineddata\n",
            "Resolving raw.githubusercontent.com (raw.githubusercontent.com)... 185.199.110.133, 185.199.109.133, 185.199.108.133, ...\n",
            "Connecting to raw.githubusercontent.com (raw.githubusercontent.com)|185.199.110.133|:443... connected.\n",
            "HTTP request sent, awaiting response... 200 OK\n",
            "Length: 59025073 (56M) [application/octet-stream]\n",
            "Saving to: ‘chi_tra.traineddata.1’\n",
            "\n",
            "\rchi_tra.traineddata   0%[                    ]       0  --.-KB/s               \rchi_tra.traineddata  89%[================>   ]  50.30M   251MB/s               \rchi_tra.traineddata 100%[===================>]  56.29M   254MB/s    in 0.2s    \n",
            "\n",
            "2023-02-05 19:25:59 (254 MB/s) - ‘chi_tra.traineddata.1’ saved [59025073/59025073]\n",
            "\n"
          ]
        }
      ]
    },
    {
      "cell_type": "code",
      "source": [
        "# Load the image\n",
        "img = Image.open(\"2.png\")\n",
        "\n",
        "# Specify the tessdata directory, which contains the language data files\n",
        "pytesseract.pytesseract.tesseract_cmd = r'/usr/bin/tesseract'\n",
        "\n",
        "\n",
        "# Perform OCR on the image, specifying the language as traditional Chinese\n",
        "text = pytesseract.image_to_string(img, lang=\"chi_tra\", config='--tessdata-dir .')\n",
        "\n",
        "\n",
        "# Print the recognized text\n",
        "print(text)"
      ],
      "metadata": {
        "colab": {
          "base_uri": "https://localhost:8080/"
        },
        "id": "9al6179oAWMe",
        "outputId": "19ce5885-51bc-48ec-ee92-d6cd7c8fffca"
      },
      "execution_count": 33,
      "outputs": [
        {
          "output_type": "stream",
          "name": "stdout",
          "text": [
            "美 國 防 部 在 縞 大 拿 州 上 空 發 現 中 國 間 謀 氣 球 ， 中 方 籲 ﹁ 共 同 冷 解 處 理 」\n",
            "\n",
            "美 國 國 防 部 在 蔬 大 拿 州 上 空 發 現 來 自 中 國 的 間 諜 氣 球 ， 礙 於 擊 落 氣 球 可 能 會 產 生 碎\n",
            "\n",
            "月 危 及 地 面 公 眾 ，\n",
            "\n",
            " \n",
            "\n",
            "因 此 未 有 採 取 即 時 行 動 ， 只 持 續 追 蹤 氣 球 動 向 。 總 統 拜 登 已 經 聽\n",
            "\n",
            "取 相 關 匯 報 ， 當 局 也 循 多 個 外 交 湘 道 緊 恥 聯 絡 中 方 。\n",
            "\n",
            " \n",
            "\n",
            " \n",
            "\n",
            " \n",
            "\n",
            "中 國 外 交 部 發 言 人 毛 寧 回 應 傳 嫘 提 唱 時 ， 未 有 舌 謊 間 謀 氣 球 屬 於 中 國 ， 僅 表 示 正 在\n",
            "了 解 和 核 實 情 況 ， 呼 籲 雙 方 ﹁ 共 同 冷 靜 、 謹 慎 處 理 」 。\n",
            "\n",
            " \n",
            "\n",
            "美 國 國 防 部 發 言 人 賴 德 (Pat Ryder﹚ 發 表 聲 明 ， 指 北 美 防 空 司 令 部 (NORAD﹚ 早\n",
            "在 數 天 前 偵 測 到 這 個 中 國 間 諜 氣 球 ， 隨 即 採 取 措 施 保 護 敏 威 情 報 和 貫 訊 ， 並 且 持 續\n",
            "追 蹤 氣 球 的 動 向 。 賴 德 提 到 ， 間 諜 氣 球 在 高 於 商 用 客 機 飛 行 高 度 的 空 域 飄 浮 ， 目 前\n",
            "判 斷 氣 球 不 會 威 齋 民 航 交 通 。\n",
            "\n",
            " \n",
            "\n",
            " \n",
            "\n",
            " \n",
            "\n",
            "間 諜 氣 球 於 當 地 週 三 (1 日 ﹚ 進 入 美 國 空 域 ， 隨 後 飄 至 美 國 北 部 的 蒙 大 拿 州 。 聲 明 引\n",
            "竦 國 防 部 高 級 官 員 指 出 ， 間 諜 氣 球 的 膿 積 相 當 廳 大 ， 甚 至 有 飛 機 師 目 擊 氣 球 ， 並 且\n",
            "報 告 其 蹤 跡 。 如 果 直 接 擊 落 氣 球 ， 產 生 的 碎 月 可 能 會 危 及 地 面 公 眾 。\n",
            "\n",
            " \n",
            "\n",
            "聲 明 引 迦 國 防 部 高 級 官 員 提 到 ， ﹁ 有 很 大 信 心 」 確 信 間 謀 氣 球 來 自 中 國 ， 而 且 氣 球\n",
            "\n",
            " \n",
            "\n",
            "的 飛 行 路 線 經 過 美\n",
            "\n",
            " \n",
            "\n",
            " \n",
            "\n",
            "國 的 敏 威 軍 事 場 所 ， 目 的 ﹁ 很 顯 然 是 用 於 監 控 」 。 美 國 擁 有 三 座\n",
            "\n",
            " \n",
            "\n",
            " \n",
            "\n",
            "核 武 發 射 五 ， 其 中 一 座 位 於 蒙 大 拿 州 卡 斯 喀 特 縣 的 馬 姆 斯 卓 空 軍 基 地 。\n",
            "\f\n"
          ]
        }
      ]
    }
  ]
}