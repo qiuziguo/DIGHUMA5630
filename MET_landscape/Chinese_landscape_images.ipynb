{
  "nbformat": 4,
  "nbformat_minor": 0,
  "metadata": {
    "colab": {
      "provenance": []
    },
    "kernelspec": {
      "name": "python3",
      "display_name": "Python 3"
    },
    "language_info": {
      "name": "python"
    }
  },
  "cells": [
    {
      "cell_type": "markdown",
      "source": [
        "Here I will open the url in the clean_Chinese_landscape, download the imaegs and save the images into google drive. "
      ],
      "metadata": {
        "id": "xmbaqRdPHYAl"
      }
    },
    {
      "cell_type": "code",
      "execution_count": null,
      "metadata": {
        "id": "er9TEJ2xxPaz"
      },
      "outputs": [],
      "source": [
        "import os\n",
        "import pandas as pd\n",
        "import requests\n",
        "from PIL import Image\n",
        "from io import BytesIO"
      ]
    },
    {
      "cell_type": "code",
      "source": [
        "# Read the table into a pandas dataframe\n",
        "df = pd.read_csv(\"/content/clean_Chinese_landscape.csv\")\n",
        "\n",
        "# Create a folder to save the images\n",
        "os.makedirs(\"images\", exist_ok=True)\n"
      ],
      "metadata": {
        "id": "ESug9wLXxVbT"
      },
      "execution_count": null,
      "outputs": []
    },
    {
      "cell_type": "markdown",
      "source": [
        "The code will raise an error if there is a NaN (Not a Number) value in the primaryImageSmall column, because a NaN value cannot be used as a URL. You can add a check to skip rows with NaN values:"
      ],
      "metadata": {
        "id": "r_TCC_LxyMyy"
      }
    },
    {
      "cell_type": "code",
      "source": [
        "# Iterate through each row in the dataframe\n",
        "for index, row in df.iterrows():\n",
        "    # Check if the URL is not empty\n",
        "    if pd.notna(row[\"primaryImageSmall\"]):\n",
        "        # Get the image URL\n",
        "        image_url = row[\"primaryImageSmall\"]\n",
        "        # Send a request to get the image\n",
        "        response = requests.get(image_url)\n",
        "        # Check if the request was successful\n",
        "        if response.status_code == 200:\n",
        "            # Open the image using PIL\n",
        "            image = Image.open(BytesIO(response.content))\n",
        "            # Save the image to the local folder\n",
        "            image.save(os.path.join(\"images\", f\"{index}.jpg\"))"
      ],
      "metadata": {
        "id": "qDXxawIwyOrX"
      },
      "execution_count": null,
      "outputs": []
    },
    {
      "cell_type": "code",
      "source": [
        "from google.colab import drive"
      ],
      "metadata": {
        "id": "1QRgn6_yzx6O"
      },
      "execution_count": null,
      "outputs": []
    },
    {
      "cell_type": "code",
      "source": [
        "# Connect to Google Drive:\n",
        "\n",
        "drive.mount('/content/drive')"
      ],
      "metadata": {
        "colab": {
          "base_uri": "https://localhost:8080/"
        },
        "id": "_48-YSVgzzVT",
        "outputId": "7a29e986-f04e-44ae-eb7d-e0c026192854"
      },
      "execution_count": null,
      "outputs": [
        {
          "output_type": "stream",
          "name": "stdout",
          "text": [
            "Mounted at /content/drive\n"
          ]
        }
      ]
    },
    {
      "cell_type": "code",
      "source": [
        "# Copy the image folder from Colab to your Google Drive:\n",
        "!cp -r /content/images /content/drive/My\\ Drive/\n"
      ],
      "metadata": {
        "id": "CVvPUvti0CsD"
      },
      "execution_count": null,
      "outputs": []
    }
  ]
}