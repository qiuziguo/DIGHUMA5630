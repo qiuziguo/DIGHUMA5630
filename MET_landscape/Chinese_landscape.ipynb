{
  "nbformat": 4,
  "nbformat_minor": 0,
  "metadata": {
    "colab": {
      "provenance": []
    },
    "kernelspec": {
      "name": "python3",
      "display_name": "Python 3"
    },
    "language_info": {
      "name": "python"
    }
  },
  "cells": [
    {
      "cell_type": "markdown",
      "source": [
        "Here I will extract the data about Chinese landscape paintings and conduct data analysis on the collection.\n",
        "the csv I use is landscape_asian_art.csv "
      ],
      "metadata": {
        "id": "WnGiz2GCGXN6"
      }
    },
    {
      "cell_type": "code",
      "execution_count": 1,
      "metadata": {
        "id": "B6wcPCntjZDE"
      },
      "outputs": [],
      "source": [
        "\n",
        "\n",
        "import pandas as pd\n",
        "import matplotlib.pyplot as plt\n"
      ]
    },
    {
      "cell_type": "code",
      "source": [
        "# Read in your data\n",
        "df = pd.read_csv('/content/landscape_asian_art.csv')"
      ],
      "metadata": {
        "id": "ovDOziA2jyOC"
      },
      "execution_count": 2,
      "outputs": []
    },
    {
      "cell_type": "code",
      "source": [
        "# Get the unique values in the \"culture\" column\n",
        "culture = pd.unique(df[\"culture\"])\n",
        "\n",
        "# Count the number of occurrences of each country\n",
        "counts = df[\"culture\"].value_counts()\n",
        "\n",
        "# Get the top 5 countries\n",
        "top_5 = counts.head(5)\n",
        "\n",
        "\n",
        "\n",
        "\n",
        "# Create a new DataFrame with the country names as the index and the count as the values\n",
        "data = pd.DataFrame(top_5)\n",
        "\n",
        "# Reset the index and rename the columns\n",
        "data.reset_index(inplace=True)\n",
        "data.columns = [\"culture\", \"count\"]\n",
        "\n",
        "print(data)\n",
        "\n"
      ],
      "metadata": {
        "colab": {
          "base_uri": "https://localhost:8080/"
        },
        "id": "68a_-OoqkOlK",
        "outputId": "cca9764b-68cc-40c9-de70-776641821a55"
      },
      "execution_count": 3,
      "outputs": [
        {
          "output_type": "stream",
          "name": "stdout",
          "text": [
            "                 culture  count\n",
            "0                  China   1022\n",
            "1                  Japan   1015\n",
            "2                  Korea     14\n",
            "3                  India     13\n",
            "4  West Bengal, Calcutta      6\n"
          ]
        }
      ]
    },
    {
      "cell_type": "code",
      "source": [
        "# Visualize the result\n",
        "colors = [\"#1f77b4\",\"#ff7f0e\",\"#2ca02c\",\"#d62728\",\"#9467bd\"]\n",
        "ax= data.plot(kind='bar', x='culture', y='count', color=colors, edgecolor = 'black', width=0.5, rot=90)\n",
        "\n",
        "for i, v in enumerate(data[\"count\"]):\n",
        "    plt.text(i-.25, v, str(v))\n",
        "\n",
        "\n",
        "plt.xlabel(\"culture\")\n",
        "plt.ylabel(\"count\")\n",
        "plt.title(\"Mapping Landscape in MET\")\n",
        "plt.xticks(rotation=45)\n",
        "\n",
        "plt.show()"
      ],
      "metadata": {
        "colab": {
          "base_uri": "https://localhost:8080/",
          "height": 370
        },
        "id": "e_-REmRtkaD9",
        "outputId": "f7f6ec65-0a85-45c5-f8f4-4a5e64682d41"
      },
      "execution_count": 4,
      "outputs": [
        {
          "output_type": "display_data",
          "data": {
            "text/plain": [
              "<Figure size 432x288 with 1 Axes>"
            ],
            "image/png": "[encoded data removed]"
          },
          "metadata": {
            "needs_background": "light"
          }
        }
      ]
    },
    {
      "cell_type": "code",
      "source": [
        "\n",
        "\n",
        "# Select the rows where the \"culture\" column is \"China\"\n",
        "df_china = df[df[\"culture\"] == \"China\"]\n",
        "\n",
        "# Save the selected rows to a new CSV file\n",
        "df_china.to_csv(\"Chinese_landscape.csv\", index=False)"
      ],
      "metadata": {
        "id": "cA7SKI-wiEQs"
      },
      "execution_count": 5,
      "outputs": []
    },
    {
      "cell_type": "code",
      "source": [
        "import numpy as np\n",
        "\n",
        "# load the csv file into a DataFrame\n",
        "df = pd.read_csv(\"Chinese_landscape.csv\") \n",
        "empty_cells = df[\"period\"].isnull().sum()\n",
        "\n",
        "#print(\"Number of empty cells in 'period' column:\", empty_cells)\n",
        "\n",
        "# replace empty cells in \"period\" column with \"unknown\"\n",
        "df[\"period\"].fillna(value=\"unknown\", inplace=True)\n"
      ],
      "metadata": {
        "id": "HvdY1Nhjkq5k"
      },
      "execution_count": 6,
      "outputs": []
    },
    {
      "cell_type": "code",
      "source": [
        "# count the number of each time period in the \"period\" column\n",
        "\n",
        "# Get the frequency of each value in the \"period\" column\n",
        "count_period = df['period'].value_counts()\n",
        "\n",
        "count_period.to_csv(\"periods.csv\",sep=',',index=True)\n",
        "\n",
        "\n"
      ],
      "metadata": {
        "id": "9Fwz4Uiylmu2"
      },
      "execution_count": 7,
      "outputs": []
    },
    {
      "cell_type": "code",
      "source": [
        "# define a mapping of inconsistent values to their consistent equivalents\n",
        "mapping = {\n",
        "    \"Contemporary\": \"Contemporary\",\n",
        "    \"Modern\": \"Modern\",\n",
        "    \"Republic period (1912–49)\": \"Republic period\",\n",
        "    \"Qing dynasty (1644–1911)\": \"Qing dynasty\",\n",
        "    \"Qing dynasty (1644–1911), Kangxi period (1662–1722)\":\"Qing dynasty\",\n",
        "    \"Qing dynasty (1644–1911), Qianlong period (1736–95)\":\"Qing dynasty\",\n",
        "    \"Qing dynasty (1644–1911), Kangxi mark and period (1662–1722)\":\"Qing dynasty\",\n",
        "    \"Qing dynasty (1644–1911), Qianlong mark and period (1736–95)\":\"Qing dynasty\",\n",
        "    \"Qing dynasty (1644–1911), Yongzheng mark and period (1723–35)\":\"Qing dynasty\",\n",
        "    \"Qing dynasty (1644–1911), Yongzheng period (1723–35)\":\"Qing dynasty\",\n",
        "    \"late Qing dynasty (1644–1911)\":\"Qing dynasty\",\n",
        "    \"Ming dynasty (1368–1644), Shunzhi period (1644–61)\":\"Qing dynasty\",\n",
        "    \"Qing dynasty (1644–1911), Shunzhi period (1644–61)\":\"Qing dynasty\",\n",
        "    \"Qing dynasty (1644–1911), Shunzhi (1644–61) period\":\"Qing dynasty\",\n",
        "    \"Qing (1644–1911) dynasty\":\"Qing dynasty\",\n",
        "    \"Ming dynasty (1368–1644), Transitional period\":\"Ming-Qing\",\n",
        "    \"late Ming (1368–1644)–early Qing (1644–1911) dynasty\":\"Ming-Qing\",\n",
        "    \"Late Ming (1368–1644) to early Qing (1644–1911) dynasty\":\"Ming-Qing\",\n",
        "    \"Ming (1368–1644) to Qing dynasty (1644–1911)\":\"Ming-Qing\",\n",
        "    \"late Ming dynasty (1368–1644)\":\"Ming dynasty\",\n",
        "    \"Ming (1368–1644)–Qing (1644–1911) dynasty\":\"Ming-Qing\",\n",
        "    \"Ming (1368–1644)– Qing dynasty (1644–1911)\":\"Ming-Qing\",\n",
        "    \"late Ming (1368–1644)– early Qing (1644–1911) dynasty\":\"Ming-Qing\",\n",
        "    \"Ming (1368–1644)–early Qing (1644–1911) dynasty\":\"Ming-Qing\",\n",
        "    \"Ming dynasty (1368–1644)\": \"Ming dynasty\",\n",
        "    \"Ming (1368–1644) dynasty\": \"Ming dynasty\",\n",
        "    \"Ming Dynasty (1368–1644)\":\"Ming dynasty\",\n",
        "    \"Ming dynasty (?) (1368–1644)\":\"Ming dynasty\",\n",
        "    \"Ming dynasty (1368–1644), Chongzhen period (1628–44)\":\"Ming dynasty\",\n",
        "    \"Ming dynasty (1368–1644), Tianqi period (1621–27)\":\"Ming dynasty\",\n",
        "    \"Ming dynasty (1368–1644), Wanli mark and period (1573–1620)\":\"Ming dynasty\",\n",
        "    \"Ming dynasty (1368–1644), Wanli period (1573–1620)\":\"Ming dynasty\",\n",
        "    \"Ming dynasty (1368–1644), Jiajing mark and period (1522–66)\":\"Ming dynasty\",\n",
        "    \"early Ming dynasty (1368–1644)\":\"Ming dynasty\",\n",
        "    \"late Yuan (1271–1368)–early Ming (1368–1644) dynasty\":\"Yuan-Ming\",\n",
        "    \"late Yuan dynasty (1271–1368)\":\"Yuan dynasty\",\n",
        "    \"Yuan dynasty  (1271–1368)\":\"Yuan dynasty\",\n",
        "    \"Yuan (1271–1368)–Ming (1368–1644) dynasty\":\"Yuan-Ming\",\n",
        "    \"Yuan dynasty (1271–1368)\": \"Yuan dynasty\",\n",
        "    \"Yuan (1271–1368)\":\"Yuan dynasty\",\n",
        "    \"Southern Song (1127–1279)–Yuan (1271–1368) dynasty\":\"Southern Song-Yuan\",\n",
        "    \"Southern Song dynasty (1127–1279)\": \"Southern Song\",\n",
        "    \"Southern Tang dynasty (937–76)\":\"Souther Tang\",\n",
        "    \"Song dynasty (960–1279)\": \"Song dynasty\",\n",
        "    \"Song dynasty (960–1279\":\"Song dynasty\",\n",
        "    \"Jin dynasty (1115–1234)\": \"Jin dynasty\",\n",
        "    \"Tang dynasty (618–907)\": \"Tang dynasty\",\n",
        "    \"Eastern Wei dynasty (534–550)\": \"Eastern Wei\",\n",
        "    \"Northern Wei dynasty (386–534)\": \"Northern Wei\",\n",
        "    \"Han dynasty (206 B.C.–A.D. 220)\": \"Han dynasty\",\n",
        "    \"Five Dynasties (907–960)\": \"Five Dynasties\",\n",
        "    \"Western Han dynasty (206 B.C.–A.D. 9)\": \"Western Han\",\n",
        "    \"unknown\": \"unknown\",\n",
        "    \"Qing dynasty (1644–1911) or Republic period (1912–49)\":\"unknown\",\n",
        "    \"Qing dynasty (1644–1911) or Republic period (1912–1949)\":\"unknown\",\n",
        "    \"Qing dynasty (?) (1644–1911)\":\"unknown\",\n",
        "    \"Ming (1368–1644) or Qing dynasty (1644–1911)\":\"unknown\", \n",
        "    \"Ming (1368–1644) or Qing (1644–1911) dynasty\":\"unknown\",\n",
        "    \"Late Yuan (1271–1368) or early Ming (1368–1644) dynasty\":\"unknown\",\n",
        "    \"Yuan (1271–1368) or Ming (1368–1644) dynasty\":\"unknown\",\n",
        "    \"late Qing dynasty (1644–1911) or early Republic period (1912–49)\":\"unknown\",\n",
        "    \"Southern Song, Yuan or early Ming dynasty\":\"unknown\",\n",
        "    \"Song dynasty (960–1279) or later\":\"unknown\",\n",
        "    \"Five Dynasties (907–960) or Northern Song (960–1127) dynasty\":\"unknown\",\n",
        "    \"Song (960–1279) or Jin (1115–1234) dynasty\":\"unknown\",\n",
        "    \"Southern Song (1127–1279) or Yuan (1271–1368) dynasty\":\"unknown\",\n",
        "    \"Ming dynasty (1368–1644) or later\":\"unknown\",\n",
        "    \"probably Qing dynasty (1644–1911)\":\"unknown\",\n",
        "    \"Ming dynasty (1368–1644) or earlier\":\"unknown\",\n",
        "    \"Song dynasty (?) (960–1279)\":\"unknown\",\n",
        "    \"Jin (1115–1234) or Yuan (1271–1368) dynasty\":\"unknown\"\n",
        "   \n",
        "}\n",
        "\n",
        " # use the mapping to replace the inconsistent values \n",
        "df[\"period\"] = df[\"period\"].replace(mapping)\n",
        "\n",
        "# save the cleaned data to a new csv file\n",
        "df.to_csv(\"clean_Chinese_landscape.csv\", index=False)"
      ],
      "metadata": {
        "id": "CTnz3PTjtq4V"
      },
      "execution_count": 10,
      "outputs": []
    },
    {
      "cell_type": "code",
      "source": [
        "# count the number of each time period in the new clean sheet \n",
        "\n",
        "df2 = pd.read_csv(\"/content/clean_Chinese_landscape.csv\") \n",
        "\n",
        "\n",
        "# Get the frequency of each value in the \"period\" column\n",
        "count_period = df2['period'].value_counts()\n",
        "\n",
        "\n",
        "count_period.to_csv(\"consistent_period.csv\",sep=',',index=True)"
      ],
      "metadata": {
        "id": "eSgUaJEWvejO"
      },
      "execution_count": 11,
      "outputs": []
    },
    {
      "cell_type": "code",
      "source": [
        "periods = ['Qing dynasty', 'Ming dynasty', 'Yuan dynasty', 'Southern dynasty', 'Song dynasty', 'Republic period', 'Ming-Qing', 'Southern Song-Yuan']\n",
        "values = [389,169, 36, 28, 18, 12, 12,6]\n",
        "colors = ['#F44336','#9C27B0','#3F51B5','#2196F3','#03A9F4','#00BCD4','#009688','#4CAF50']\n",
        "\n",
        "plt.bar(periods, values, color=colors)\n",
        "plt.title(\"Mapping Chinese Landscape in MET\")\n",
        "plt.xlabel(\"Period\")\n",
        "plt.ylabel(\"Count\")\n",
        "plt.xticks(rotation=45)\n",
        "plt.show()"
      ],
      "metadata": {
        "colab": {
          "base_uri": "https://localhost:8080/",
          "height": 363
        },
        "id": "yEEeoNnbviWB",
        "outputId": "594ed106-0d4a-4716-9746-8e682c25af96"
      },
      "execution_count": 12,
      "outputs": [
        {
          "output_type": "display_data",
          "data": {
            "text/plain": [
              "<Figure size 432x288 with 1 Axes>"
            ],
            "image/png": "[encoded data removed]"
          },
          "metadata": {
            "needs_background": "light"
          }
        }
      ]
    },
    {
      "cell_type": "code",
      "source": [
        "# now we want to explore the accession year. I want to group the access year by decades.\n",
        "\n",
        "import numpy as np\n",
        "\n",
        "# get all values in accessionYear column\n",
        "\n",
        "years_list = df['accessionYear'].tolist()\n",
        "\n",
        "# Create the bins for the years\n",
        "min_year = min(years_list)\n",
        "max_year = max(years_list)\n",
        "bins = np.arange(min_year, max_year+10, 10)\n",
        "\n",
        "# Create the labels for the bins\n",
        "labels = [f'{x}0s' for x in range(min_year//10+1, (max_year//10)+1)]\n",
        "\n",
        "# Group the years into the bins\n",
        "df['decade'] = pd.cut(df['accessionYear'], bins=bins, labels=labels)\n",
        "\n",
        "\n"
      ],
      "metadata": {
        "id": "SY5OKmuK3wYf"
      },
      "execution_count": 13,
      "outputs": []
    },
    {
      "cell_type": "code",
      "source": [
        "df.to_csv(\"clean_Chinese_landscape_decade.csv\", index=False)"
      ],
      "metadata": {
        "id": "keMczqhD31uW"
      },
      "execution_count": 14,
      "outputs": []
    },
    {
      "cell_type": "code",
      "source": [
        "# Get the frequency of each decade \n",
        "\n",
        "count_decade = df['decade'].value_counts()\n",
        "\n",
        "print (count_decade)\n",
        "\n",
        "count_decade.to_csv(\"which decade accquire the most Chinese landscape.csv\",sep=',',index=True)\n"
      ],
      "metadata": {
        "colab": {
          "base_uri": "https://localhost:8080/"
        },
        "id": "2N_iCSLZrkNQ",
        "outputId": "2d5e1488-df9d-4e5d-d5a1-cf1709a2c6d3"
      },
      "execution_count": 15,
      "outputs": [
        {
          "output_type": "stream",
          "name": "stdout",
          "text": [
            "1980s    272\n",
            "1910s    134\n",
            "2000s    122\n",
            "1920s     83\n",
            "1940s     81\n",
            "2010s     73\n",
            "1970s     65\n",
            "1990s     44\n",
            "1960s     35\n",
            "1950s     33\n",
            "1930s     28\n",
            "1900s     15\n",
            "2020s     11\n",
            "1880s      5\n",
            "1890s      1\n",
            "Name: decade, dtype: int64\n"
          ]
        }
      ]
    },
    {
      "cell_type": "code",
      "source": [
        "# Create a line chart of the binned data\n",
        "df['decade'].value_counts().sort_index().plot(kind='line')\n",
        "\n",
        "# Add axis labels\n",
        "plt.xlabel('Decade')\n",
        "plt.ylabel('Number of Items')\n",
        "plt.title(\"Number of acquired Chinese landscape\")\n",
        "\n",
        "\n",
        "# Show the chart\n",
        "plt.show()"
      ],
      "metadata": {
        "colab": {
          "base_uri": "https://localhost:8080/",
          "height": 295
        },
        "id": "6Kc3UY0d19oH",
        "outputId": "8ba6236f-c92f-4d89-9b91-0f72b22f8a54"
      },
      "execution_count": 16,
      "outputs": [
        {
          "output_type": "display_data",
          "data": {
            "text/plain": [
              "<Figure size 432x288 with 1 Axes>"
            ],
            "image/png": "[encoded data removed]"
          },
          "metadata": {
            "needs_background": "light"
          }
        }
      ]
    }
  ]
}