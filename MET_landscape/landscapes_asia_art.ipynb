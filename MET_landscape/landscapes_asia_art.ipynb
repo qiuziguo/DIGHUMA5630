{
  "nbformat": 4,
  "nbformat_minor": 0,
  "metadata": {
    "colab": {
      "provenance": []
    },
    "kernelspec": {
      "name": "python3",
      "display_name": "Python 3"
    },
    "language_info": {
      "name": "python"
    }
  },
  "cells": [
    {
      "cell_type": "markdown",
      "source": [],
      "metadata": {
        "id": "8lgLHsX-b9GN"
      }
    },
    {
      "cell_type": "markdown",
      "source": [
        "Import Python library \"requests\" to access the MET Museum's public API and retrieve information on landscape artworks from the Asian Art department.\n",
        "\n"
      ],
      "metadata": {
        "id": "D5X87bDEXfgr"
      }
    },
    {
      "cell_type": "markdown",
      "source": [
        "Import Python library \"Pandas\" which is a powerful data manipulation library in Python. It provides data structures and data analysis tools for handling and manipulating tables. In this case, pandas is used to manupulate and analyze the data returned by the API"
      ],
      "metadata": {
        "id": "pWaaWezSZKvs"
      }
    },
    {
      "cell_type": "markdown",
      "source": [
        "Import Python library \"time\" to delay the API requests in order to avoid overloading the API server with too many requests in a short period of time."
      ],
      "metadata": {
        "id": "xt-KTdGEZwac"
      }
    },
    {
      "cell_type": "code",
      "execution_count": 1,
      "metadata": {
        "id": "1ojeCdftXaRd"
      },
      "outputs": [],
      "source": [
        "import requests\n",
        "\n",
        "import pandas as pd\n",
        "\n",
        "import time"
      ]
    },
    {
      "cell_type": "markdown",
      "source": [
        "Create a variable url that contains the URL for the API endpoint that will be used to retrieve the data. The URL includes the base URL for the API, https://collectionapi.metmuseum.org/public/collection/v1/search, and two query parameters: departmentId=6 and q=landscape. The departmentId=6 parameter specifies that the API should only return artworks from the Asian Art department, and the q=landscape parameter specifies that the API should only return artworks that are landscapes.\n",
        "\n"
      ],
      "metadata": {
        "id": "PsVH9CaCb_1K"
      }
    },
    {
      "cell_type": "code",
      "source": [
        "url = \"https://collectionapi.metmuseum.org/public/collection/v1/search?departmentId=6&q=landscape\"\n",
        "\n",
        "response = requests.get(url) # makes a GET request to the API endpoint specified in the url variable using the requests.get() function. \n",
        "\n",
        "results_json = response.json() #uses the response.json() function to parse the JSON data returned by the API and save it in the results_json variable."
      ],
      "metadata": {
        "id": "IdyLPfu6cCji"
      },
      "execution_count": 2,
      "outputs": []
    },
    {
      "cell_type": "markdown",
      "source": [
        "Use the results_json variable, which contains the JSON data returned by the MET Museum's API, to extract specific information such as \"objectID\", \"title\",\"culture\",\"period\",\"accessionYear\",\"\"primaryImageSmall\" and \"diementions\"on landscape artworks from the Asian Art department and store it in separate variables.\n",
        "\n",
        "It's important to note that this code is expecting that the json structure returned by the API contains the fields \"objectID\", \"title\",\"culture\", \"period\",\"accessionYear\", \"primaryImageSmall\", \"dimensions\" and that those fields are in a format that can be stored in the lists, otherwise an error will be raised."
      ],
      "metadata": {
        "id": "Fb_IZfOUcJJw"
      }
    },
    {
      "cell_type": "code",
      "execution_count": 3,
      "metadata": {
        "id": "05dc7723"
      },
      "outputs": [],
      "source": [
        "all_objects = results_json[\"objectIDs\"] # access the value of the \"objectIDs\" key in the results_json varibale \n",
        "\n",
        "# creating empty lists for storing specific information about each artwork. \n",
        "\n",
        "objectID = []\n",
        "title = []\n",
        "culture = []\n",
        "period = []\n",
        "accessionYear =[]\n",
        "primaryImageSmall = []\n",
        "dimensions = []"
      ]
    },
    {
      "cell_type": "code",
      "execution_count": 4,
      "metadata": {
        "id": "08894f4e"
      },
      "outputs": [],
      "source": [
        "for idx, i in enumerate(all_objects):\n",
        "    #print(f\"{idx} of {len(all_objects)}.\")\n",
        "    url2 = \"https://collectionapi.metmuseum.org/public/collection/v1/objects/\" + str(i)\n",
        "    response2 = requests.get(url2)\n",
        "    results_json2 = response2.json()\n",
        "\n",
        "    try:\n",
        "        objectID.append(results_json2[\"objectID\"])\n",
        "    except:\n",
        "        objectID.append(\"N/A\")\n",
        "\n",
        "    try:\n",
        "        title.append(results_json2[\"title\"])\n",
        "    except:\n",
        "        title.append(\"N/A\")\n",
        "\n",
        "    try:\n",
        "        culture.append(results_json2[\"culture\"])\n",
        "    except:\n",
        "        culture.append(\"N/A\")\n",
        "        \n",
        "    try:\n",
        "        period.append(results_json2[\"period\"])\n",
        "    except:\n",
        "        period.append(\"N/A\")\n",
        "\n",
        "    try:\n",
        "        accessionYear.append(results_json2[\"accessionYear\"])\n",
        "    except:\n",
        "        accessionYear.append(\"N/A\")\n",
        "        \n",
        "    try:\n",
        "        primaryImageSmall.append(results_json2[\"primaryImageSmall\"])\n",
        "    except:\n",
        "        primaryImageSmall.append(\"N/A\")\n",
        "\n",
        "    try:\n",
        "        dimensions.append(results_json2[\"dimensions\"])\n",
        "    except:\n",
        "        dimensions.append(\"N/A\")\n",
        "\n",
        "    # increase if want to wait for seconds between requests\n",
        "    time.sleep(0)\n"
      ]
    },
    {
      "cell_type": "code",
      "execution_count": 5,
      "metadata": {
        "id": "7fdd1e1b"
      },
      "outputs": [],
      "source": [
        "all_data = pd.DataFrame(\n",
        "    {\n",
        "        \"objectID\": objectID,\n",
        "        \"title\": title,\n",
        "        \"culture\": culture,\n",
        "        \"period\": period,\n",
        "        \"accessionYear\":accessionYear,\n",
        "        \"primaryImageSmall\": primaryImageSmall,\n",
        "        \"dimensions\": dimensions,\n",
        "    }\n",
        ")"
      ]
    },
    {
      "cell_type": "code",
      "execution_count": 6,
      "metadata": {
        "id": "1e8920bb"
      },
      "outputs": [],
      "source": [
        "all_data.to_csv(\"landscape_asian_art.csv\", index=False)"
      ]
    }
  ]
}